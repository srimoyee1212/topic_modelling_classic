{
 "cells": [
  {
   "cell_type": "code",
   "execution_count": 9,
   "id": "de851a58",
   "metadata": {},
   "outputs": [],
   "source": [
    "import numpy as np\n",
    "import pandas as pd\n",
    "import gensim\n",
    "from gensim.corpora import Dictionary\n",
    "from gensim.models import LdaModel\n",
    "from nltk.tokenize import word_tokenize\n",
    "from nltk.corpus import stopwords\n",
    "from nltk.stem import WordNetLemmatizer\n",
    "import string"
   ]
  },
  {
   "cell_type": "code",
   "execution_count": 2,
   "id": "ec9f6541",
   "metadata": {},
   "outputs": [
    {
     "name": "stderr",
     "output_type": "stream",
     "text": [
      "[nltk_data] Downloading package punkt to /Users/srimoyee/nltk_data...\n",
      "[nltk_data]   Package punkt is already up-to-date!\n",
      "[nltk_data] Downloading package stopwords to\n",
      "[nltk_data]     /Users/srimoyee/nltk_data...\n",
      "[nltk_data]   Package stopwords is already up-to-date!\n",
      "[nltk_data] Downloading package wordnet to\n",
      "[nltk_data]     /Users/srimoyee/nltk_data...\n",
      "[nltk_data]   Package wordnet is already up-to-date!\n"
     ]
    },
    {
     "data": {
      "text/plain": [
       "True"
      ]
     },
     "execution_count": 2,
     "metadata": {},
     "output_type": "execute_result"
    }
   ],
   "source": [
    "import nltk\n",
    "nltk.download('punkt')\n",
    "nltk.download('stopwords')\n",
    "nltk.download('wordnet')"
   ]
  },
  {
   "cell_type": "code",
   "execution_count": 3,
   "id": "e711e9f6",
   "metadata": {},
   "outputs": [],
   "source": [
    "data = pd.read_csv('paper_data1.csv')"
   ]
  },
  {
   "cell_type": "code",
   "execution_count": 4,
   "id": "e7949dca",
   "metadata": {},
   "outputs": [],
   "source": [
    "def preprocess(text):\n",
    "    stop_words = set(stopwords.words('english'))\n",
    "    lemmatizer = WordNetLemmatizer()\n",
    "    \n",
    "    # Tokenize\n",
    "    tokens = word_tokenize(text.lower())\n",
    "    \n",
    "    # Remove punctuation and stop words, and lemmatize\n",
    "    tokens = [lemmatizer.lemmatize(token) for token in tokens if token not in stop_words and token not in string.punctuation]\n",
    "    \n",
    "    return tokens"
   ]
  },
  {
   "cell_type": "code",
   "execution_count": 10,
   "id": "a144bbdd",
   "metadata": {},
   "outputs": [],
   "source": [
    "data['tokens'] = data['Title'].astype(str) + ' ' + data['Abstract'].astype(str)\n",
    "data['tokens'] = data['tokens'].apply(preprocess)"
   ]
  },
  {
   "cell_type": "code",
   "execution_count": 11,
   "id": "903eabd6",
   "metadata": {},
   "outputs": [],
   "source": [
    "dictionary = Dictionary(data['tokens'])\n",
    "corpus = [dictionary.doc2bow(doc) for doc in data['tokens']]"
   ]
  },
  {
   "cell_type": "code",
   "execution_count": 12,
   "id": "6383b09a",
   "metadata": {},
   "outputs": [],
   "source": [
    "num_topics = 6  # Number of topics\n",
    "lda_model = LdaModel(corpus, num_topics=num_topics, id2word=dictionary)"
   ]
  },
  {
   "cell_type": "code",
   "execution_count": 13,
   "id": "d2cc3a79",
   "metadata": {},
   "outputs": [],
   "source": [
    "topics = lda_model.show_topics(num_topics=num_topics, num_words=10)"
   ]
  },
  {
   "cell_type": "code",
   "execution_count": 14,
   "id": "9203abe4",
   "metadata": {},
   "outputs": [
    {
     "name": "stdout",
     "output_type": "stream",
     "text": [
      "(0, '0.008*\"code\" + 0.007*\"image\" + 0.007*\"system\" + 0.005*\"helberg\" + 0.005*\"naisargik\" + 0.005*\"development\" + 0.004*\"vt\" + 0.003*\"pressure\" + 0.003*\"however\" + 0.003*\"map\"')\n",
      "(1, '0.005*\"data\" + 0.004*\"result\" + 0.004*\"occlusion\" + 0.004*\"field\" + 0.004*\"cost\" + 0.004*\"maintenance\" + 0.004*\"skill\" + 0.003*\"algorithm\" + 0.003*\"model\" + 0.003*\"effect\"')\n",
      "(2, '0.006*\"set\" + 0.006*\"study\" + 0.005*\"algorithm\" + 0.005*\"fuzzy\" + 0.004*\"result\" + 0.004*\"network\" + 0.004*\"linear\" + 0.004*\"diophantine\" + 0.003*\"ring\" + 0.003*\"q-rung\"')\n",
      "(3, '0.005*\"model\" + 0.005*\"data\" + 0.005*\"result\" + 0.004*\"network\" + 0.004*\"system\" + 0.003*\"method\" + 0.003*\"doctrine\" + 0.003*\"consumption\" + 0.003*\"generalized\" + 0.003*\"study\"')\n",
      "(4, '0.007*\"ablation\" + 0.005*\"system\" + 0.005*\"protein\" + 0.003*\"cmes\" + 0.003*\"signal\" + 0.003*\"development\" + 0.003*\"mdpm-17\" + 0.003*\"study\" + 0.003*\"result\" + 0.003*\"transmission\"')\n",
      "(5, '0.006*\"study\" + 0.005*\"model\" + 0.005*\"cell\" + 0.005*\"maintenance\" + 0.005*\"ablation\" + 0.004*\"effect\" + 0.004*\"proposed\" + 0.004*\"method\" + 0.003*\"using\" + 0.003*\"result\"')\n"
     ]
    }
   ],
   "source": [
    "for topic in topics:\n",
    "    print(topic)"
   ]
  },
  {
   "cell_type": "code",
   "execution_count": 16,
   "id": "b7efdac2",
   "metadata": {},
   "outputs": [
    {
     "name": "stdout",
     "output_type": "stream",
     "text": [
      "Collecting pyLDAvis\n",
      "  Downloading pyLDAvis-3.4.1-py3-none-any.whl (2.6 MB)\n",
      "\u001b[2K     \u001b[90m━━━━━━━━━━━━━━━━━━━━━━━━━━━━━━━━━━━━━━━━\u001b[0m \u001b[32m2.6/2.6 MB\u001b[0m \u001b[31m18.9 MB/s\u001b[0m eta \u001b[36m0:00:00\u001b[0ma \u001b[36m0:00:01\u001b[0m\n",
      "\u001b[?25hRequirement already satisfied: joblib>=1.2.0 in /Users/srimoyee/opt/anaconda3/lib/python3.9/site-packages (from pyLDAvis) (1.3.2)\n",
      "Requirement already satisfied: scipy in /Users/srimoyee/opt/anaconda3/lib/python3.9/site-packages (from pyLDAvis) (1.9.1)\n",
      "Requirement already satisfied: setuptools in /Users/srimoyee/opt/anaconda3/lib/python3.9/site-packages (from pyLDAvis) (63.4.1)\n",
      "Requirement already satisfied: jinja2 in /Users/srimoyee/opt/anaconda3/lib/python3.9/site-packages (from pyLDAvis) (2.11.3)\n",
      "Requirement already satisfied: scikit-learn>=1.0.0 in /Users/srimoyee/opt/anaconda3/lib/python3.9/site-packages (from pyLDAvis) (1.0.2)\n",
      "Collecting funcy\n",
      "  Downloading funcy-2.0-py2.py3-none-any.whl (30 kB)\n",
      "Collecting pandas>=2.0.0\n",
      "  Downloading pandas-2.2.2-cp39-cp39-macosx_10_9_x86_64.whl (12.6 MB)\n",
      "\u001b[2K     \u001b[90m━━━━━━━━━━━━━━━━━━━━━━━━━━━━━━━━━━━━━━━━\u001b[0m \u001b[32m12.6/12.6 MB\u001b[0m \u001b[31m33.3 MB/s\u001b[0m eta \u001b[36m0:00:00\u001b[0m00:01\u001b[0m00:01\u001b[0m\n",
      "\u001b[?25hRequirement already satisfied: numpy>=1.24.2 in /Users/srimoyee/opt/anaconda3/lib/python3.9/site-packages (from pyLDAvis) (1.24.4)\n",
      "Requirement already satisfied: gensim in /Users/srimoyee/opt/anaconda3/lib/python3.9/site-packages (from pyLDAvis) (4.1.2)\n",
      "Requirement already satisfied: numexpr in /Users/srimoyee/opt/anaconda3/lib/python3.9/site-packages (from pyLDAvis) (2.8.5)\n",
      "Requirement already satisfied: pytz>=2020.1 in /Users/srimoyee/opt/anaconda3/lib/python3.9/site-packages (from pandas>=2.0.0->pyLDAvis) (2022.1)\n",
      "Requirement already satisfied: tzdata>=2022.7 in /Users/srimoyee/opt/anaconda3/lib/python3.9/site-packages (from pandas>=2.0.0->pyLDAvis) (2023.3)\n",
      "Requirement already satisfied: python-dateutil>=2.8.2 in /Users/srimoyee/opt/anaconda3/lib/python3.9/site-packages (from pandas>=2.0.0->pyLDAvis) (2.8.2)\n",
      "Requirement already satisfied: threadpoolctl>=2.0.0 in /Users/srimoyee/opt/anaconda3/lib/python3.9/site-packages (from scikit-learn>=1.0.0->pyLDAvis) (2.2.0)\n",
      "Requirement already satisfied: smart-open>=1.8.1 in /Users/srimoyee/opt/anaconda3/lib/python3.9/site-packages (from gensim->pyLDAvis) (5.2.1)\n",
      "Requirement already satisfied: MarkupSafe>=0.23 in /Users/srimoyee/opt/anaconda3/lib/python3.9/site-packages (from jinja2->pyLDAvis) (2.0.1)\n",
      "Requirement already satisfied: six>=1.5 in /Users/srimoyee/opt/anaconda3/lib/python3.9/site-packages (from python-dateutil>=2.8.2->pandas>=2.0.0->pyLDAvis) (1.16.0)\n",
      "Installing collected packages: funcy, pandas, pyLDAvis\n",
      "  Attempting uninstall: pandas\n",
      "    Found existing installation: pandas 1.4.4\n",
      "    Uninstalling pandas-1.4.4:\n",
      "      Successfully uninstalled pandas-1.4.4\n",
      "\u001b[31mERROR: pip's dependency resolver does not currently take into account all the packages that are installed. This behaviour is the source of the following dependency conflicts.\n",
      "streamlit 1.25.0 requires pillow<10,>=7.1.0, but you have pillow 10.0.1 which is incompatible.\u001b[0m\u001b[31m\n",
      "\u001b[0mSuccessfully installed funcy-2.0 pandas-2.2.2 pyLDAvis-3.4.1\n",
      "Note: you may need to restart the kernel to use updated packages.\n"
     ]
    }
   ],
   "source": [
    "pip install pyLDAvis"
   ]
  },
  {
   "cell_type": "code",
   "execution_count": 17,
   "id": "2e2f8e2d",
   "metadata": {},
   "outputs": [],
   "source": [
    "import pyLDAvis\n",
    "import pyLDAvis.gensim"
   ]
  },
  {
   "cell_type": "code",
   "execution_count": null,
   "id": "f1ba6bb6",
   "metadata": {},
   "outputs": [],
   "source": []
  }
 ],
 "metadata": {
  "kernelspec": {
   "display_name": "Python 3 (ipykernel)",
   "language": "python",
   "name": "python3"
  },
  "language_info": {
   "codemirror_mode": {
    "name": "ipython",
    "version": 3
   },
   "file_extension": ".py",
   "mimetype": "text/x-python",
   "name": "python",
   "nbconvert_exporter": "python",
   "pygments_lexer": "ipython3",
   "version": "3.9.13"
  }
 },
 "nbformat": 4,
 "nbformat_minor": 5
}
